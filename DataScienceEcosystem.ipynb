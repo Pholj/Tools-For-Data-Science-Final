{
  "nbformat": 4,
  "nbformat_minor": 0,
  "metadata": {
    "colab": {
      "provenance": []
    },
    "kernelspec": {
      "name": "python3",
      "display_name": "Python 3"
    },
    "language_info": {
      "name": "python"
    }
  },
  "cells": [
    {
      "cell_type": "markdown",
      "source": [
        "#Data Science Tools and Ecosystem\n",
        "\n"
      ],
      "metadata": {
        "id": "5bx2ybWh0i7j"
      }
    },
    {
      "cell_type": "markdown",
      "source": [
        "In this notebook, Data Science Tools and Ecosystem are summarized."
      ],
      "metadata": {
        "id": "XLC69k0J1Tf8"
      }
    },
    {
      "cell_type": "markdown",
      "source": [
        "**Objectives**\n",
        "\n",
        "\n",
        "*   List popular languages for Data Science\n",
        "*   List commonly used Libraries for Data Science\n",
        "*   List Tools for Data Science\n",
        "*   Examples of Arithmetic Equations\n",
        "\n"
      ],
      "metadata": {
        "id": "V2Br45q26AFh"
      }
    },
    {
      "cell_type": "markdown",
      "source": [
        "Some of the popular languages that Data Scientists use are:\n",
        "\n",
        "1.   Python\n",
        "2.   R\n",
        "3.   SQL\n",
        "\n",
        "\n"
      ],
      "metadata": {
        "id": "O_lzbs-N1X34"
      }
    },
    {
      "cell_type": "markdown",
      "source": [
        "Some of the commonly used libraries used by Data Scientists include:\n",
        "\n",
        "\n",
        "1.   Matplotlib\n",
        "2.   Pandas\n",
        "3.   Numpy\n",
        "4.   Scikit-Learn\n",
        "\n"
      ],
      "metadata": {
        "id": "_4ihUQ9M3dxb"
      }
    },
    {
      "cell_type": "markdown",
      "source": [
        "| Data Science Tools |\n",
        "|--------------------|\n",
        "| Jupyter Notebooks |\n",
        "| Zeppelin Notebooks |\n",
        "| R Studio |"
      ],
      "metadata": {
        "id": "qCOXIYik30qW"
      }
    },
    {
      "cell_type": "markdown",
      "source": [
        "###Below are a few examples of evaluating arithmetic expressions in Python"
      ],
      "metadata": {
        "id": "JNphAMoh4drC"
      }
    },
    {
      "cell_type": "code",
      "source": [
        " #This a simple arithmetic expression to mutiply then add integers\n",
        " (3*4)+5"
      ],
      "metadata": {
        "colab": {
          "base_uri": "https://localhost:8080/"
        },
        "id": "kJ4v_tDa4niS",
        "outputId": "3b47af57-5f20-4d32-8a8c-0dc980019a2e"
      },
      "execution_count": 1,
      "outputs": [
        {
          "output_type": "execute_result",
          "data": {
            "text/plain": [
              "17"
            ]
          },
          "metadata": {},
          "execution_count": 1
        }
      ]
    },
    {
      "cell_type": "code",
      "source": [
        "#This will convert 200 minutes to hours by diving by 60\n",
        "hours = 200//60\n",
        "min = 200%60\n",
        "\n",
        "print(hours , \"hours and\", min, \"minutes\")"
      ],
      "metadata": {
        "colab": {
          "base_uri": "https://localhost:8080/"
        },
        "id": "HpO9ecPG5hLu",
        "outputId": "297e17fa-5d6d-4f25-9b33-aacc102ec7eb"
      },
      "execution_count": 7,
      "outputs": [
        {
          "output_type": "stream",
          "name": "stdout",
          "text": [
            "3 hours and 20 minutes\n"
          ]
        }
      ]
    },
    {
      "cell_type": "markdown",
      "source": [
        "##Author\n",
        "Phol J."
      ],
      "metadata": {
        "id": "LviboDzC6lIX"
      }
    }
  ]
}